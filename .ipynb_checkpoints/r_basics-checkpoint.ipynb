{
 "cells": [
  {
   "cell_type": "code",
   "execution_count": 1,
   "id": "47b9c919-2cb1-4de9-9fcc-e5dbf197c62f",
   "metadata": {
    "tags": []
   },
   "outputs": [],
   "source": [
    "name <- \"John\"\n",
    "age <- 40"
   ]
  },
  {
   "cell_type": "code",
   "execution_count": 2,
   "id": "eab99930-4897-4de2-90cc-046221286bcb",
   "metadata": {
    "tags": []
   },
   "outputs": [
    {
     "data": {
      "text/html": [
       "'John'"
      ],
      "text/latex": [
       "'John'"
      ],
      "text/markdown": [
       "'John'"
      ],
      "text/plain": [
       "[1] \"John\""
      ]
     },
     "metadata": {},
     "output_type": "display_data"
    }
   ],
   "source": [
    "name"
   ]
  },
  {
   "cell_type": "code",
   "execution_count": 3,
   "id": "53fc155b-6e49-46cb-a2c2-6afba2e0c087",
   "metadata": {
    "tags": []
   },
   "outputs": [
    {
     "data": {
      "text/html": [
       "40"
      ],
      "text/latex": [
       "40"
      ],
      "text/markdown": [
       "40"
      ],
      "text/plain": [
       "[1] 40"
      ]
     },
     "metadata": {},
     "output_type": "display_data"
    }
   ],
   "source": [
    "age"
   ]
  },
  {
   "cell_type": "code",
   "execution_count": 4,
   "id": "11d9beee-4a14-46a8-991e-490ca7d030fb",
   "metadata": {
    "tags": []
   },
   "outputs": [
    {
     "data": {
      "text/html": [
       "'character'"
      ],
      "text/latex": [
       "'character'"
      ],
      "text/markdown": [
       "'character'"
      ],
      "text/plain": [
       "[1] \"character\""
      ]
     },
     "metadata": {},
     "output_type": "display_data"
    }
   ],
   "source": [
    "class(name)"
   ]
  },
  {
   "cell_type": "code",
   "execution_count": 5,
   "id": "2abd58fc-e7c0-496a-90bb-b9b029a3b9d1",
   "metadata": {
    "tags": []
   },
   "outputs": [
    {
     "data": {
      "text/html": [
       "'numeric'"
      ],
      "text/latex": [
       "'numeric'"
      ],
      "text/markdown": [
       "'numeric'"
      ],
      "text/plain": [
       "[1] \"numeric\""
      ]
     },
     "metadata": {},
     "output_type": "display_data"
    }
   ],
   "source": [
    "class(age)"
   ]
  },
  {
   "cell_type": "markdown",
   "id": "ba681950-ebae-411c-baf2-ff418f55f73c",
   "metadata": {},
   "source": [
    "*** even though we can use '=' as assignment operator, it is recommended against ***"
   ]
  },
  {
   "cell_type": "code",
   "execution_count": 6,
   "id": "2d18383d-d4fc-4764-9ca8-5e9dd266543c",
   "metadata": {
    "tags": []
   },
   "outputs": [],
   "source": [
    "name <- \"John Doe\""
   ]
  },
  {
   "cell_type": "code",
   "execution_count": 7,
   "id": "d3ed0cbc-cc96-4e4a-a3c0-5748bedad17e",
   "metadata": {
    "tags": []
   },
   "outputs": [
    {
     "name": "stdout",
     "output_type": "stream",
     "text": [
      "[1] \"John Doe\"\n"
     ]
    }
   ],
   "source": [
    "print(name)"
   ]
  },
  {
   "cell_type": "code",
   "execution_count": 8,
   "id": "9ffc2beb-e601-40c8-ba77-01431e6340ad",
   "metadata": {
    "tags": []
   },
   "outputs": [
    {
     "data": {
      "text/html": [
       "'John Doe'"
      ],
      "text/latex": [
       "'John Doe'"
      ],
      "text/markdown": [
       "'John Doe'"
      ],
      "text/plain": [
       "[1] \"John Doe\""
      ]
     },
     "metadata": {},
     "output_type": "display_data"
    }
   ],
   "source": [
    "name"
   ]
  },
  {
   "cell_type": "code",
   "execution_count": 9,
   "id": "2a82908c-e96c-4c74-9aca-baff48198518",
   "metadata": {
    "tags": []
   },
   "outputs": [
    {
     "name": "stdout",
     "output_type": "stream",
     "text": [
      "[1] 1\n",
      "[1] 2\n",
      "[1] 3\n",
      "[1] 4\n",
      "[1] 5\n",
      "[1] 6\n",
      "[1] 7\n",
      "[1] 8\n",
      "[1] 9\n",
      "[1] 10\n"
     ]
    }
   ],
   "source": [
    "for (x in 1:10) {\n",
    "    print(x)\n",
    "}"
   ]
  },
  {
   "cell_type": "code",
   "execution_count": 10,
   "id": "51238d66-1c31-4cb3-ab5d-ea7fc5ea47e0",
   "metadata": {
    "tags": []
   },
   "outputs": [],
   "source": [
    "text <- \"text 1\""
   ]
  },
  {
   "cell_type": "code",
   "execution_count": 12,
   "id": "e4223a9e-8d95-462c-bd37-e241c002e12e",
   "metadata": {
    "tags": []
   },
   "outputs": [
    {
     "data": {
      "text/html": [
       "'This is text 1'"
      ],
      "text/latex": [
       "'This is text 1'"
      ],
      "text/markdown": [
       "'This is text 1'"
      ],
      "text/plain": [
       "[1] \"This is text 1\""
      ]
     },
     "metadata": {},
     "output_type": "display_data"
    }
   ],
   "source": [
    "paste(\"This is\", text)"
   ]
  },
  {
   "cell_type": "code",
   "execution_count": 13,
   "id": "27252caa-b061-4af8-a9b4-07e5ed79c5d0",
   "metadata": {
    "tags": []
   },
   "outputs": [],
   "source": [
    "text1 <- \"R is\"\n",
    "text2 <- \"awesome\""
   ]
  },
  {
   "cell_type": "code",
   "execution_count": 14,
   "id": "01fb1020-904c-4b24-b3cc-365169d5531e",
   "metadata": {
    "tags": []
   },
   "outputs": [
    {
     "data": {
      "text/html": [
       "'R is awesome'"
      ],
      "text/latex": [
       "'R is awesome'"
      ],
      "text/markdown": [
       "'R is awesome'"
      ],
      "text/plain": [
       "[1] \"R is awesome\""
      ]
     },
     "metadata": {},
     "output_type": "display_data"
    }
   ],
   "source": [
    "paste(text1, text2)"
   ]
  },
  {
   "cell_type": "code",
   "execution_count": 15,
   "id": "2b12562f-a329-450e-87a6-cb57a27e2a6c",
   "metadata": {
    "tags": []
   },
   "outputs": [],
   "source": [
    "num1 <- 5\n",
    "num2 <- 10"
   ]
  },
  {
   "cell_type": "code",
   "execution_count": 16,
   "id": "c4f066fa-716a-46e0-badb-c9be494a250b",
   "metadata": {
    "tags": []
   },
   "outputs": [
    {
     "data": {
      "text/html": [
       "15"
      ],
      "text/latex": [
       "15"
      ],
      "text/markdown": [
       "15"
      ],
      "text/plain": [
       "[1] 15"
      ]
     },
     "metadata": {},
     "output_type": "display_data"
    }
   ],
   "source": [
    "num1 + num2"
   ]
  },
  {
   "cell_type": "code",
   "execution_count": 17,
   "id": "fc408856-3ef5-42eb-9cde-d81909c5663a",
   "metadata": {
    "tags": []
   },
   "outputs": [
    {
     "ename": "ERROR",
     "evalue": "Error in text1 + num1: non-numeric argument to binary operator\n",
     "output_type": "error",
     "traceback": [
      "Error in text1 + num1: non-numeric argument to binary operator\nTraceback:\n"
     ]
    }
   ],
   "source": [
    "text1 + num1"
   ]
  },
  {
   "cell_type": "code",
   "execution_count": 18,
   "id": "4a2119b3-a40f-4afa-b3a0-fec406bbe7b9",
   "metadata": {
    "tags": []
   },
   "outputs": [
    {
     "ename": "ERROR",
     "evalue": "Error in text1 + text2: non-numeric argument to binary operator\n",
     "output_type": "error",
     "traceback": [
      "Error in text1 + text2: non-numeric argument to binary operator\nTraceback:\n"
     ]
    }
   ],
   "source": [
    "text1 + text2"
   ]
  },
  {
   "cell_type": "code",
   "execution_count": 20,
   "id": "91207b46-961c-4d63-9321-0329b217b0ca",
   "metadata": {
    "tags": []
   },
   "outputs": [
    {
     "data": {
      "text/html": [
       "'R is awesome'"
      ],
      "text/latex": [
       "'R is awesome'"
      ],
      "text/markdown": [
       "'R is awesome'"
      ],
      "text/plain": [
       "[1] \"R is awesome\""
      ]
     },
     "metadata": {},
     "output_type": "display_data"
    }
   ],
   "source": [
    "paste(text1, text2)"
   ]
  },
  {
   "cell_type": "code",
   "execution_count": 21,
   "id": "25fd8aab-fc80-4054-94bf-d23cf121f2d7",
   "metadata": {
    "tags": []
   },
   "outputs": [],
   "source": [
    "var1 <- var2 <- var3 <- \"Orange\""
   ]
  },
  {
   "cell_type": "code",
   "execution_count": 22,
   "id": "f7499ab5-67bb-4b10-9545-88d202fc813b",
   "metadata": {
    "tags": []
   },
   "outputs": [
    {
     "data": {
      "text/html": [
       "'Orange'"
      ],
      "text/latex": [
       "'Orange'"
      ],
      "text/markdown": [
       "'Orange'"
      ],
      "text/plain": [
       "[1] \"Orange\""
      ]
     },
     "metadata": {},
     "output_type": "display_data"
    }
   ],
   "source": [
    "var1"
   ]
  },
  {
   "cell_type": "code",
   "execution_count": 23,
   "id": "f2f3a58e-0a30-4a01-800d-5683825c146b",
   "metadata": {
    "tags": []
   },
   "outputs": [
    {
     "data": {
      "text/html": [
       "'Orange'"
      ],
      "text/latex": [
       "'Orange'"
      ],
      "text/markdown": [
       "'Orange'"
      ],
      "text/plain": [
       "[1] \"Orange\""
      ]
     },
     "metadata": {},
     "output_type": "display_data"
    }
   ],
   "source": [
    "var2"
   ]
  },
  {
   "cell_type": "code",
   "execution_count": 24,
   "id": "f7274c58-08b5-4735-9daf-817f06d56dd1",
   "metadata": {
    "tags": []
   },
   "outputs": [
    {
     "data": {
      "text/html": [
       "'Orange'"
      ],
      "text/latex": [
       "'Orange'"
      ],
      "text/markdown": [
       "'Orange'"
      ],
      "text/plain": [
       "[1] \"Orange\""
      ]
     },
     "metadata": {},
     "output_type": "display_data"
    }
   ],
   "source": [
    "var3"
   ]
  },
  {
   "cell_type": "code",
   "execution_count": 25,
   "id": "254f2cfd-482f-4f27-b466-40730663621e",
   "metadata": {
    "tags": []
   },
   "outputs": [
    {
     "data": {
      "text/html": [
       "TRUE"
      ],
      "text/latex": [
       "TRUE"
      ],
      "text/markdown": [
       "TRUE"
      ],
      "text/plain": [
       "[1] TRUE"
      ]
     },
     "metadata": {},
     "output_type": "display_data"
    }
   ],
   "source": [
    "var1 == var2"
   ]
  },
  {
   "cell_type": "code",
   "execution_count": 27,
   "id": "3152b1b5-1b40-422d-9c4b-90d165b59404",
   "metadata": {
    "tags": []
   },
   "outputs": [
    {
     "data": {
      "text/html": [
       "TRUE"
      ],
      "text/latex": [
       "TRUE"
      ],
      "text/markdown": [
       "TRUE"
      ],
      "text/plain": [
       "[1] TRUE"
      ]
     },
     "metadata": {},
     "output_type": "display_data"
    }
   ],
   "source": [
    "var2 == var3"
   ]
  },
  {
   "cell_type": "code",
   "execution_count": 28,
   "id": "3b298f43-b439-4958-98e8-361d58c62a6e",
   "metadata": {
    "tags": []
   },
   "outputs": [
    {
     "data": {
      "text/html": [
       "30"
      ],
      "text/latex": [
       "30"
      ],
      "text/markdown": [
       "30"
      ],
      "text/plain": [
       "[1] 30"
      ]
     },
     "metadata": {},
     "output_type": "display_data"
    }
   ],
   "source": [
    "my_var <- 30\n",
    "my_var"
   ]
  },
  {
   "cell_type": "code",
   "execution_count": 29,
   "id": "fdc690ff-be19-4a2d-88f0-f2422d4f58bc",
   "metadata": {
    "tags": []
   },
   "outputs": [],
   "source": [
    "my_var <- \"changed variable by canging value\""
   ]
  },
  {
   "cell_type": "code",
   "execution_count": 30,
   "id": "f376e3cf-58ad-41fb-b413-ea511aa8e821",
   "metadata": {
    "tags": []
   },
   "outputs": [
    {
     "data": {
      "text/html": [
       "'changed variable by canging value'"
      ],
      "text/latex": [
       "'changed variable by canging value'"
      ],
      "text/markdown": [
       "'changed variable by canging value'"
      ],
      "text/plain": [
       "[1] \"changed variable by canging value\""
      ]
     },
     "metadata": {},
     "output_type": "display_data"
    }
   ],
   "source": [
    "my_var"
   ]
  },
  {
   "cell_type": "code",
   "execution_count": 31,
   "id": "2b056783-c9d1-4056-a54c-9c9434a5b82e",
   "metadata": {
    "tags": []
   },
   "outputs": [
    {
     "data": {
      "text/html": [
       "'numeric'"
      ],
      "text/latex": [
       "'numeric'"
      ],
      "text/markdown": [
       "'numeric'"
      ],
      "text/plain": [
       "[1] \"numeric\""
      ]
     },
     "metadata": {},
     "output_type": "display_data"
    }
   ],
   "source": [
    "class(10.5)"
   ]
  },
  {
   "cell_type": "code",
   "execution_count": 32,
   "id": "6a1ed983-02fc-49bd-8c19-5e2e47f32901",
   "metadata": {
    "tags": []
   },
   "outputs": [
    {
     "data": {
      "text/html": [
       "'integer'"
      ],
      "text/latex": [
       "'integer'"
      ],
      "text/markdown": [
       "'integer'"
      ],
      "text/plain": [
       "[1] \"integer\""
      ]
     },
     "metadata": {},
     "output_type": "display_data"
    }
   ],
   "source": [
    "class(1L)"
   ]
  },
  {
   "cell_type": "code",
   "execution_count": 33,
   "id": "c2ba5357-e643-4590-9583-789f3857b923",
   "metadata": {
    "tags": []
   },
   "outputs": [
    {
     "data": {
      "text/html": [
       "'integer'"
      ],
      "text/latex": [
       "'integer'"
      ],
      "text/markdown": [
       "'integer'"
      ],
      "text/plain": [
       "[1] \"integer\""
      ]
     },
     "metadata": {},
     "output_type": "display_data"
    }
   ],
   "source": [
    "class(100L)"
   ]
  },
  {
   "cell_type": "code",
   "execution_count": 34,
   "id": "2affb18c-c154-44cc-9923-978929ba85d2",
   "metadata": {
    "tags": []
   },
   "outputs": [
    {
     "data": {
      "text/html": [
       "'complex'"
      ],
      "text/latex": [
       "'complex'"
      ],
      "text/markdown": [
       "'complex'"
      ],
      "text/plain": [
       "[1] \"complex\""
      ]
     },
     "metadata": {},
     "output_type": "display_data"
    }
   ],
   "source": [
    "class(10 + 3i)"
   ]
  },
  {
   "cell_type": "code",
   "execution_count": 36,
   "id": "3f40d84f-4a89-4009-b773-036b59663cbd",
   "metadata": {
    "tags": []
   },
   "outputs": [
    {
     "data": {
      "text/html": [
       "'complex'"
      ],
      "text/latex": [
       "'complex'"
      ],
      "text/markdown": [
       "'complex'"
      ],
      "text/plain": [
       "[1] \"complex\""
      ]
     },
     "metadata": {},
     "output_type": "display_data"
    }
   ],
   "source": [
    "class(3i)"
   ]
  },
  {
   "cell_type": "code",
   "execution_count": 38,
   "id": "22e6c5b5-d96b-4bc4-948e-90cbe595aafd",
   "metadata": {
    "tags": []
   },
   "outputs": [
    {
     "data": {
      "text/html": [
       "'logical'"
      ],
      "text/latex": [
       "'logical'"
      ],
      "text/markdown": [
       "'logical'"
      ],
      "text/plain": [
       "[1] \"logical\""
      ]
     },
     "metadata": {},
     "output_type": "display_data"
    }
   ],
   "source": [
    "class(TRUE)"
   ]
  },
  {
   "cell_type": "code",
   "execution_count": 39,
   "id": "db6904b7-550c-4d17-b5ba-4b2e046bf41a",
   "metadata": {
    "tags": []
   },
   "outputs": [],
   "source": [
    "x <- 10L\n",
    "y <- 2"
   ]
  },
  {
   "cell_type": "code",
   "execution_count": 40,
   "id": "68937a77-c39b-400b-a7dd-3a7133370f0e",
   "metadata": {
    "tags": []
   },
   "outputs": [],
   "source": [
    "a <- as.numeric(x)"
   ]
  },
  {
   "cell_type": "code",
   "execution_count": 41,
   "id": "f82d1806-2daf-45d5-90da-96ff6e1fe3d7",
   "metadata": {
    "tags": []
   },
   "outputs": [
    {
     "data": {
      "text/html": [
       "10"
      ],
      "text/latex": [
       "10"
      ],
      "text/markdown": [
       "10"
      ],
      "text/plain": [
       "[1] 10"
      ]
     },
     "metadata": {},
     "output_type": "display_data"
    }
   ],
   "source": [
    "a"
   ]
  },
  {
   "cell_type": "code",
   "execution_count": 42,
   "id": "54232693-f600-46ed-b627-37d6b1e69fcb",
   "metadata": {
    "tags": []
   },
   "outputs": [
    {
     "data": {
      "text/html": [
       "'numeric'"
      ],
      "text/latex": [
       "'numeric'"
      ],
      "text/markdown": [
       "'numeric'"
      ],
      "text/plain": [
       "[1] \"numeric\""
      ]
     },
     "metadata": {},
     "output_type": "display_data"
    }
   ],
   "source": [
    "class(a)"
   ]
  },
  {
   "cell_type": "code",
   "execution_count": 43,
   "id": "0985281c-9329-4aed-9e3b-b94df25563d9",
   "metadata": {
    "tags": []
   },
   "outputs": [
    {
     "data": {
      "text/html": [
       "'integer'"
      ],
      "text/latex": [
       "'integer'"
      ],
      "text/markdown": [
       "'integer'"
      ],
      "text/plain": [
       "[1] \"integer\""
      ]
     },
     "metadata": {},
     "output_type": "display_data"
    }
   ],
   "source": [
    "class(x)"
   ]
  },
  {
   "cell_type": "code",
   "execution_count": 44,
   "id": "811c8ea5-aec7-4853-8a30-ad6bfb9ab938",
   "metadata": {
    "tags": []
   },
   "outputs": [
    {
     "data": {
      "text/html": [
       "10+3i"
      ],
      "text/latex": [
       "10+3i"
      ],
      "text/markdown": [
       "10+3i"
      ],
      "text/plain": [
       "[1] 10+3i"
      ]
     },
     "metadata": {},
     "output_type": "display_data"
    }
   ],
   "source": [
    "com <- 10+3i\n",
    "com"
   ]
  },
  {
   "cell_type": "code",
   "execution_count": 45,
   "id": "d55a6575-0553-4df1-b1b1-df055cf3c115",
   "metadata": {
    "tags": []
   },
   "outputs": [
    {
     "data": {
      "text/html": [
       "'complex'"
      ],
      "text/latex": [
       "'complex'"
      ],
      "text/markdown": [
       "'complex'"
      ],
      "text/plain": [
       "[1] \"complex\""
      ]
     },
     "metadata": {},
     "output_type": "display_data"
    }
   ],
   "source": [
    "class(com)"
   ]
  },
  {
   "cell_type": "code",
   "execution_count": 46,
   "id": "caf91974-d21f-4fa0-8b6f-945b962edbe8",
   "metadata": {
    "tags": []
   },
   "outputs": [
    {
     "name": "stderr",
     "output_type": "stream",
     "text": [
      "Warning message in eval(expr, envir, enclos):\n",
      "\"imaginary parts discarded in coercion\""
     ]
    },
    {
     "data": {
      "text/html": [
       "10"
      ],
      "text/latex": [
       "10"
      ],
      "text/markdown": [
       "10"
      ],
      "text/plain": [
       "[1] 10"
      ]
     },
     "metadata": {},
     "output_type": "display_data"
    }
   ],
   "source": [
    "com_to_num = as.numeric(com)\n",
    "com_to_num"
   ]
  },
  {
   "cell_type": "code",
   "execution_count": 47,
   "id": "bbcbbb64-f7e4-4fbf-a025-3ef5d487499e",
   "metadata": {
    "tags": []
   },
   "outputs": [
    {
     "data": {
      "text/html": [
       "10+0i"
      ],
      "text/latex": [
       "10+0i"
      ],
      "text/markdown": [
       "10+0i"
      ],
      "text/plain": [
       "[1] 10+0i"
      ]
     },
     "metadata": {},
     "output_type": "display_data"
    }
   ],
   "source": [
    "num_to_com = as.complex(x)\n",
    "num_to_com"
   ]
  },
  {
   "cell_type": "code",
   "execution_count": 48,
   "id": "edb24437-8e97-420d-aa24-456f27da16cf",
   "metadata": {
    "tags": []
   },
   "outputs": [
    {
     "data": {
      "text/html": [
       "2+0i"
      ],
      "text/latex": [
       "2+0i"
      ],
      "text/markdown": [
       "2+0i"
      ],
      "text/plain": [
       "[1] 2+0i"
      ]
     },
     "metadata": {},
     "output_type": "display_data"
    }
   ],
   "source": [
    "num_to_c = as.complex(y)\n",
    "num_to_c"
   ]
  },
  {
   "cell_type": "code",
   "execution_count": 49,
   "id": "b3739096-8aba-4c53-b9e6-7f305695109e",
   "metadata": {
    "tags": []
   },
   "outputs": [
    {
     "data": {
      "text/html": [
       "15"
      ],
      "text/latex": [
       "15"
      ],
      "text/markdown": [
       "15"
      ],
      "text/plain": [
       "[1] 15"
      ]
     },
     "metadata": {},
     "output_type": "display_data"
    }
   ],
   "source": [
    "10 + 5"
   ]
  },
  {
   "cell_type": "code",
   "execution_count": 50,
   "id": "a9e371d9-7ca9-4c3c-81be-b02afe59997b",
   "metadata": {
    "tags": []
   },
   "outputs": [
    {
     "data": {
      "text/html": [
       "5"
      ],
      "text/latex": [
       "5"
      ],
      "text/markdown": [
       "5"
      ],
      "text/plain": [
       "[1] 5"
      ]
     },
     "metadata": {},
     "output_type": "display_data"
    }
   ],
   "source": [
    "10 - 5"
   ]
  },
  {
   "cell_type": "code",
   "execution_count": 51,
   "id": "491fd740-7204-4a69-b36d-4b935b8951dd",
   "metadata": {
    "tags": []
   },
   "outputs": [
    {
     "data": {
      "text/html": [
       "505"
      ],
      "text/latex": [
       "505"
      ],
      "text/markdown": [
       "505"
      ],
      "text/plain": [
       "[1] 505"
      ]
     },
     "metadata": {},
     "output_type": "display_data"
    }
   ],
   "source": [
    "101 * 5"
   ]
  },
  {
   "cell_type": "code",
   "execution_count": 53,
   "id": "d061c829-f6ba-449c-897d-343ff0d20864",
   "metadata": {
    "tags": []
   },
   "outputs": [
    {
     "data": {
      "text/html": [
       "13"
      ],
      "text/latex": [
       "13"
      ],
      "text/markdown": [
       "13"
      ],
      "text/plain": [
       "[1] 13"
      ]
     },
     "metadata": {},
     "output_type": "display_data"
    }
   ],
   "source": [
    "max(10, 11, 13)"
   ]
  },
  {
   "cell_type": "code",
   "execution_count": 54,
   "id": "2d783895-f2bc-4135-ba4f-0d38a10f4001",
   "metadata": {
    "tags": []
   },
   "outputs": [
    {
     "data": {
      "text/html": [
       "-5"
      ],
      "text/latex": [
       "-5"
      ],
      "text/markdown": [
       "-5"
      ],
      "text/plain": [
       "[1] -5"
      ]
     },
     "metadata": {},
     "output_type": "display_data"
    }
   ],
   "source": [
    "min(10, -5, 11)"
   ]
  },
  {
   "cell_type": "code",
   "execution_count": 55,
   "id": "47ebfb25-b714-4a69-9a7a-c2c503047bec",
   "metadata": {
    "tags": []
   },
   "outputs": [
    {
     "data": {
      "text/html": [
       "4"
      ],
      "text/latex": [
       "4"
      ],
      "text/markdown": [
       "4"
      ],
      "text/plain": [
       "[1] 4"
      ]
     },
     "metadata": {},
     "output_type": "display_data"
    }
   ],
   "source": [
    "sqrt(16)"
   ]
  },
  {
   "cell_type": "code",
   "execution_count": 56,
   "id": "5495f5bc-0e15-48df-bfaf-e69e53b37e5e",
   "metadata": {
    "tags": []
   },
   "outputs": [
    {
     "data": {
      "text/html": [
       "50"
      ],
      "text/latex": [
       "50"
      ],
      "text/markdown": [
       "50"
      ],
      "text/plain": [
       "[1] 50"
      ]
     },
     "metadata": {},
     "output_type": "display_data"
    }
   ],
   "source": [
    "abs(-50)"
   ]
  },
  {
   "cell_type": "code",
   "execution_count": 57,
   "id": "d833d87c-2efb-4265-be19-a9dc639385c9",
   "metadata": {
    "tags": []
   },
   "outputs": [
    {
     "data": {
      "text/html": [
       "2"
      ],
      "text/latex": [
       "2"
      ],
      "text/markdown": [
       "2"
      ],
      "text/plain": [
       "[1] 2"
      ]
     },
     "metadata": {},
     "output_type": "display_data"
    }
   ],
   "source": [
    "ceiling(1.2)"
   ]
  },
  {
   "cell_type": "code",
   "execution_count": 58,
   "id": "f81b5e12-f565-408b-bc46-694c96c9cf3e",
   "metadata": {
    "tags": []
   },
   "outputs": [
    {
     "data": {
      "text/html": [
       "1"
      ],
      "text/latex": [
       "1"
      ],
      "text/markdown": [
       "1"
      ],
      "text/plain": [
       "[1] 1"
      ]
     },
     "metadata": {},
     "output_type": "display_data"
    }
   ],
   "source": [
    "floor(1.2)"
   ]
  },
  {
   "cell_type": "code",
   "execution_count": 59,
   "id": "8b498ca1-748e-4431-8ff5-6b9c6855ca0c",
   "metadata": {
    "tags": []
   },
   "outputs": [
    {
     "data": {
      "text/html": [
       "2"
      ],
      "text/latex": [
       "2"
      ],
      "text/markdown": [
       "2"
      ],
      "text/plain": [
       "[1] 2"
      ]
     },
     "metadata": {},
     "output_type": "display_data"
    }
   ],
   "source": [
    "floor(2.4)"
   ]
  },
  {
   "cell_type": "code",
   "execution_count": 60,
   "id": "d3e21fdb-9a78-410d-8a89-f85f2b41185e",
   "metadata": {
    "tags": []
   },
   "outputs": [
    {
     "data": {
      "text/html": [
       "'Lorem ipsum dolor sit amet,\\nconsectetur adipiscing elit,\\nsed do eiusmod tempor incididunt\\nut labore et dolore magna aliqua.'"
      ],
      "text/latex": [
       "'Lorem ipsum dolor sit amet,\\textbackslash{}nconsectetur adipiscing elit,\\textbackslash{}nsed do eiusmod tempor incididunt\\textbackslash{}nut labore et dolore magna aliqua.'"
      ],
      "text/markdown": [
       "'Lorem ipsum dolor sit amet,\\nconsectetur adipiscing elit,\\nsed do eiusmod tempor incididunt\\nut labore et dolore magna aliqua.'"
      ],
      "text/plain": [
       "[1] \"Lorem ipsum dolor sit amet,\\nconsectetur adipiscing elit,\\nsed do eiusmod tempor incididunt\\nut labore et dolore magna aliqua.\""
      ]
     },
     "metadata": {},
     "output_type": "display_data"
    }
   ],
   "source": [
    "str <- \"Lorem ipsum dolor sit amet,\n",
    "consectetur adipiscing elit,\n",
    "sed do eiusmod tempor incididunt\n",
    "ut labore et dolore magna aliqua.\"\n",
    "str"
   ]
  },
  {
   "cell_type": "code",
   "execution_count": 61,
   "id": "d61e08d9-a275-42d9-abbc-426261d6133f",
   "metadata": {
    "tags": []
   },
   "outputs": [
    {
     "name": "stdout",
     "output_type": "stream",
     "text": [
      "[1] \"Lorem ipsum dolor sit amet,\\nconsectetur adipiscing elit,\\nsed do eiusmod tempor incididunt\\nut labore et dolore magna aliqua.\"\n"
     ]
    }
   ],
   "source": [
    "print(str)"
   ]
  },
  {
   "cell_type": "code",
   "execution_count": 62,
   "id": "cf8d08b8-26af-4129-9538-f4edd57e47c9",
   "metadata": {
    "tags": []
   },
   "outputs": [
    {
     "data": {
      "text/html": [
       "123"
      ],
      "text/latex": [
       "123"
      ],
      "text/markdown": [
       "123"
      ],
      "text/plain": [
       "[1] 123"
      ]
     },
     "metadata": {},
     "output_type": "display_data"
    }
   ],
   "source": [
    "nchar(str)"
   ]
  },
  {
   "cell_type": "code",
   "execution_count": 63,
   "id": "4ea9ff42-2dc0-481f-8ef8-41e587118cad",
   "metadata": {
    "tags": []
   },
   "outputs": [
    {
     "data": {
      "text/html": [
       "TRUE"
      ],
      "text/latex": [
       "TRUE"
      ],
      "text/markdown": [
       "TRUE"
      ],
      "text/plain": [
       "[1] TRUE"
      ]
     },
     "metadata": {},
     "output_type": "display_data"
    }
   ],
   "source": [
    "str <- \"Hello world!\"\n",
    "grepl(\"H\", str)"
   ]
  },
  {
   "cell_type": "code",
   "execution_count": 64,
   "id": "cb39ad84-edba-4073-b0ce-541f1114c75a",
   "metadata": {
    "tags": []
   },
   "outputs": [
    {
     "data": {
      "text/html": [
       "FALSE"
      ],
      "text/latex": [
       "FALSE"
      ],
      "text/markdown": [
       "FALSE"
      ],
      "text/plain": [
       "[1] FALSE"
      ]
     },
     "metadata": {},
     "output_type": "display_data"
    }
   ],
   "source": [
    "grepl(\"i\", str)"
   ]
  },
  {
   "cell_type": "code",
   "execution_count": 65,
   "id": "c6db2e0e-0ef9-4ffc-911b-601fbf3a104b",
   "metadata": {
    "tags": []
   },
   "outputs": [
    {
     "data": {
      "text/html": [
       "FALSE"
      ],
      "text/latex": [
       "FALSE"
      ],
      "text/markdown": [
       "FALSE"
      ],
      "text/plain": [
       "[1] FALSE"
      ]
     },
     "metadata": {},
     "output_type": "display_data"
    }
   ],
   "source": [
    "grepl(\"W\", str)"
   ]
  },
  {
   "cell_type": "code",
   "execution_count": 66,
   "id": "28af0fbc-b3db-4fad-a853-3ec6f45946b4",
   "metadata": {
    "tags": []
   },
   "outputs": [
    {
     "data": {
      "text/html": [
       "TRUE"
      ],
      "text/latex": [
       "TRUE"
      ],
      "text/markdown": [
       "TRUE"
      ],
      "text/plain": [
       "[1] TRUE"
      ]
     },
     "metadata": {},
     "output_type": "display_data"
    }
   ],
   "source": [
    "grepl(\"w\", str)"
   ]
  },
  {
   "cell_type": "code",
   "execution_count": 67,
   "id": "e131ea5b-420f-4ea3-b375-4bf9a8e6042d",
   "metadata": {
    "tags": []
   },
   "outputs": [],
   "source": [
    "a <- 200\n",
    "b <- 50"
   ]
  },
  {
   "cell_type": "code",
   "execution_count": 68,
   "id": "47ae75c0-20ce-4257-a1b7-b7728a13efa7",
   "metadata": {
    "tags": []
   },
   "outputs": [
    {
     "name": "stdout",
     "output_type": "stream",
     "text": [
      "[1] \"a is greater than b\"\n"
     ]
    }
   ],
   "source": [
    "if (b > a){\n",
    "    print(\"b is greater than a\")\n",
    "} else {\n",
    "    print(\"a is greater than b\")\n",
    "}"
   ]
  },
  {
   "cell_type": "markdown",
   "id": "f6def71d-dec6-463f-8744-9ca72c2455ad",
   "metadata": {},
   "source": [
    "### Operators"
   ]
  },
  {
   "cell_type": "code",
   "execution_count": null,
   "id": "3920f00e-1cda-4d14-a26a-27a9d9809fb9",
   "metadata": {},
   "outputs": [],
   "source": []
  }
 ],
 "metadata": {
  "kernelspec": {
   "display_name": "R",
   "language": "R",
   "name": "ir"
  },
  "language_info": {
   "codemirror_mode": "r",
   "file_extension": ".r",
   "mimetype": "text/x-r-source",
   "name": "R",
   "pygments_lexer": "r",
   "version": "3.6.1"
  }
 },
 "nbformat": 4,
 "nbformat_minor": 5
}
